{
 "cells": [
  {
   "cell_type": "markdown",
   "metadata": {},
   "source": [
    "# As part of this data analysis I am considering sales_train.csv  and test.CSV to predict future sales of each ID(product and shop tuple )\n",
    "\n",
    "The data sets considered for this analyis and there description as as follows:\n",
    "\n",
    "The train data set consists of  historical sales data  from January 2013 to October 2015.\n",
    "This data set was provided by one of the largest Russian software firms\n",
    "\n",
    "sales_train.csv - the training set. Daily historical data from January 2013 to October 2015.\n",
    "test.csv - the test set. You need to forecast the sales for these shops and products for November 2015.\n",
    "sample_submission.csv - a sample submission file in the correct format.\n",
    "items.csv - supplemental information about the items/products.\n",
    "item_categories.csv - supplemental information about the items categories.\n",
    "shops.csv- supplemental information about the shops.\n",
    "\n",
    "# Data fields\n",
    "ID - an Id that represents a (Shop, Item) tuple within the test set\n",
    "shop_id - unique identifier of a shop\n",
    "item_id - unique identifier of a product\n",
    "item_category_id - unique identifier of item category\n",
    "item_cnt_day - number of products sold. You are predicting a monthly amount of this measure\n",
    "item_price - current price of an item\n",
    "date - date in format dd/mm/yyyy\n",
    "date_block_num - a consecutive month number, used for convenience. January 2013 is 0, February 2013 is 1,..., October 2015 is 33\n",
    "item_name - name of item\n",
    "shop_name - name of shop\n",
    "item_category_name - name of item category\n",
    "\n",
    "\n",
    "# Problem statement :  The task is to forecast the total amount of products sold in every shop for the test set.\n",
    "\n",
    "# Understaning the data and points to note :\n",
    "\n",
    "As this data set is purely based on the historical sales data we can consider this as a pure observational study with random sampling and without  random assignment. \n",
    "This data set being an observational study we can establish an association based on the observations made.\n",
    "we can establish correlation between explanatory and response variables and the results can be generalizable. \n",
    "We cannot make any causal conclusions.\n",
    "\n"
   ]
  },
  {
   "cell_type": "code",
   "execution_count": 1,
   "metadata": {},
   "outputs": [
    {
     "data": {
      "text/html": [
       "<table>\n",
       "<thead><tr><th></th><th scope=col>used</th><th scope=col>(Mb)</th><th scope=col>gc trigger</th><th scope=col>(Mb)</th><th scope=col>max used</th><th scope=col>(Mb)</th></tr></thead>\n",
       "<tbody>\n",
       "\t<tr><th scope=row>Ncells</th><td>485244 </td><td>26.0   </td><td> 940480</td><td>50.3   </td><td> 750400</td><td>40.1   </td></tr>\n",
       "\t<tr><th scope=row>Vcells</th><td>852549 </td><td> 6.6   </td><td>1650153</td><td>12.6   </td><td>1023674</td><td> 7.9   </td></tr>\n",
       "</tbody>\n",
       "</table>\n"
      ],
      "text/latex": [
       "\\begin{tabular}{r|llllll}\n",
       "  & used & (Mb) & gc trigger & (Mb) & max used & (Mb)\\\\\n",
       "\\hline\n",
       "\tNcells & 485244  & 26.0    &  940480 & 50.3    &  750400 & 40.1   \\\\\n",
       "\tVcells & 852549  &  6.6    & 1650153 & 12.6    & 1023674 &  7.9   \\\\\n",
       "\\end{tabular}\n"
      ],
      "text/markdown": [
       "\n",
       "| <!--/--> | used | (Mb) | gc trigger | (Mb) | max used | (Mb) | \n",
       "|---|---|\n",
       "| Ncells | 485244  | 26.0    |  940480 | 50.3    |  750400 | 40.1    | \n",
       "| Vcells | 852549  |  6.6    | 1650153 | 12.6    | 1023674 |  7.9    | \n",
       "\n",
       "\n"
      ],
      "text/plain": [
       "       used   (Mb) gc trigger (Mb) max used (Mb)\n",
       "Ncells 485244 26.0  940480    50.3  750400  40.1\n",
       "Vcells 852549  6.6 1650153    12.6 1023674   7.9"
      ]
     },
     "metadata": {},
     "output_type": "display_data"
    },
    {
     "name": "stderr",
     "output_type": "stream",
     "text": [
      "\n",
      "Attaching package: 'dplyr'\n",
      "\n",
      "The following objects are masked from 'package:stats':\n",
      "\n",
      "    filter, lag\n",
      "\n",
      "The following objects are masked from 'package:base':\n",
      "\n",
      "    intersect, setdiff, setequal, union\n",
      "\n",
      "\n",
      "Attaching package: 'lubridate'\n",
      "\n",
      "The following object is masked from 'package:base':\n",
      "\n",
      "    date\n",
      "\n",
      "Loading required package: Hmisc\n",
      "Loading required package: survival\n",
      "Loading required package: Formula\n",
      "\n",
      "Attaching package: 'Hmisc'\n",
      "\n",
      "The following objects are masked from 'package:dplyr':\n",
      "\n",
      "    src, summarize\n",
      "\n",
      "The following objects are masked from 'package:base':\n",
      "\n",
      "    format.pval, units\n",
      "\n",
      "funModeling v.1.6.7 :)\n",
      "Examples and tutorials at livebook.datascienceheroes.com\n",
      "\n",
      "\n",
      "Attaching package: 'data.table'\n",
      "\n",
      "The following objects are masked from 'package:lubridate':\n",
      "\n",
      "    hour, isoweek, mday, minute, month, quarter, second, wday, week,\n",
      "    yday, year\n",
      "\n",
      "The following objects are masked from 'package:dplyr':\n",
      "\n",
      "    between, first, last\n",
      "\n"
     ]
    }
   ],
   "source": [
    "# set working directory and clear objects \n",
    "rm(list=ls()) ; gc()    # Delete objects and garbage clearance\n",
    "library(dplyr)          # For data manipulation\n",
    "library(magrittr)       # For pipes\n",
    "library(lattice)\n",
    "library(lubridate)\t\t\t# For date manipulation\n",
    "library(padr)           # For aggregating data quarter/month wise: thicken()\n",
    "library(ggplot2) \n",
    "library(funModeling)\n",
    "library(padr)\n",
    "library(forecast)\n",
    "library(data.table)\n",
    "\n",
    "\n",
    "setwd(\"C:\\\\Users\\\\vikandul\\\\Desktop\\\\BIG DATA - FORE SCHOOL COURSE\\\\Class Notes and Supporting documentation\\\\Week_05252018\\\\Kaggle Excercise\")\n",
    "\n"
   ]
  },
  {
   "cell_type": "code",
   "execution_count": 2,
   "metadata": {},
   "outputs": [],
   "source": [
    "library(dplyr)          # For data manipulation\n",
    "library(magrittr)       # For pipes\n",
    "library(lubridate)\t\t\t# For date manipulation\n",
    "library(padr)           # For aggregating data quarter/month wise: thicken()\n",
    "library(ggplot2) "
   ]
  },
  {
   "cell_type": "markdown",
   "metadata": {},
   "source": [
    "# Import and understand the data  :\n",
    "\n",
    "Import train_sales.CSV file to data frame train_sales_data \n",
    "the train_sales_data have 2935849 rows/ observations with 6 attributes / columns\n",
    "\n"
   ]
  },
  {
   "cell_type": "code",
   "execution_count": 3,
   "metadata": {},
   "outputs": [
    {
     "data": {
      "text/html": [
       "<ol class=list-inline>\n",
       "\t<li>2935849</li>\n",
       "\t<li>6</li>\n",
       "</ol>\n"
      ],
      "text/latex": [
       "\\begin{enumerate*}\n",
       "\\item 2935849\n",
       "\\item 6\n",
       "\\end{enumerate*}\n"
      ],
      "text/markdown": [
       "1. 2935849\n",
       "2. 6\n",
       "\n",
       "\n"
      ],
      "text/plain": [
       "[1] 2935849       6"
      ]
     },
     "metadata": {},
     "output_type": "display_data"
    }
   ],
   "source": [
    "train_sales_data<- read.csv(\"sales_train_v2.csv\", header =TRUE)\n",
    "\n",
    "dim(train_sales_data)"
   ]
  },
  {
   "cell_type": "markdown",
   "metadata": {},
   "source": [
    "Validate train_sales_data and identify for null / NA values , check count of unique values for each attribute of train data set.\n",
    "\n",
    "date is a factor variable and consists of 1034 unique values\n",
    "date_block_num is an integer variable with 34 unique values and consists of 115690 rows with value as 0\n",
    "shop_id is an integer variable with 60 unique values and consists of 9857 rows with a value of 0 \n",
    "item_id is an integer variable with 21807 unique values and consits of 1 row with a value of 0 \n",
    "item_price is a numeric value with 10003 unique values \n",
    "item_cnt_day is a numeric variable with 198 unique values \n",
    "\n"
   ]
  },
  {
   "cell_type": "code",
   "execution_count": 4,
   "metadata": {},
   "outputs": [
    {
     "name": "stdout",
     "output_type": "stream",
     "text": [
      "        variable q_zeros p_zeros q_na p_na q_inf p_inf    type unique\n",
      "1           date       0    0.00    0    0     0     0  factor   1034\n",
      "2 date_block_num  115690    3.94    0    0     0     0 integer     34\n",
      "3        shop_id    9857    0.34    0    0     0     0 integer     60\n",
      "4        item_id       1    0.00    0    0     0     0 integer  21807\n",
      "5     item_price       0    0.00    0    0     0     0 numeric  19993\n",
      "6   item_cnt_day       0    0.00    0    0     0     0 numeric    198\n"
     ]
    },
    {
     "data": {
      "text/html": [
       "0"
      ],
      "text/latex": [
       "0"
      ],
      "text/markdown": [
       "0"
      ],
      "text/plain": [
       "[1] 0"
      ]
     },
     "metadata": {},
     "output_type": "display_data"
    }
   ],
   "source": [
    "check_na <- df_status(train_sales_data)\n",
    "#or\n",
    "sum(is.na(train_sales_data))\n"
   ]
  },
  {
   "cell_type": "markdown",
   "metadata": {},
   "source": [
    "# Derive summary of the train_sales_data using summary function :\n",
    "\n",
    "summary will help us determine the following for each attribute :\n",
    "For Integer / numeric variables :\n",
    "    It will help us derive the minimum , maximum , mean, median , Ist quartile, 3rd Quartile values\n",
    "\n",
    "For Factor variables :\n",
    "    It will derive count of observations for each level of the factor variable and results will be displayed in descending order of count of observations. \n",
    "For example : 28.12.2013 date have 9493 observations which is the max count for any day in the train_sales_data set.\n"
   ]
  },
  {
   "cell_type": "code",
   "execution_count": 5,
   "metadata": {},
   "outputs": [
    {
     "data": {
      "text/plain": [
       "         date         date_block_num     shop_id      item_id     \n",
       " 28.12.2013:   9434   Min.   : 0.00   Min.   : 0   Min.   :    0  \n",
       " 29.12.2013:   9335   1st Qu.: 7.00   1st Qu.:22   1st Qu.: 4476  \n",
       " 30.12.2014:   9324   Median :14.00   Median :31   Median : 9343  \n",
       " 30.12.2013:   9138   Mean   :14.57   Mean   :33   Mean   :10197  \n",
       " 31.12.2014:   8347   3rd Qu.:23.00   3rd Qu.:47   3rd Qu.:15684  \n",
       " 27.12.2014:   8041   Max.   :33.00   Max.   :59   Max.   :22169  \n",
       " (Other)   :2882230                                               \n",
       "   item_price        item_cnt_day     \n",
       " Min.   :    -1.0   Min.   : -22.000  \n",
       " 1st Qu.:   249.0   1st Qu.:   1.000  \n",
       " Median :   399.0   Median :   1.000  \n",
       " Mean   :   890.9   Mean   :   1.243  \n",
       " 3rd Qu.:   999.0   3rd Qu.:   1.000  \n",
       " Max.   :307980.0   Max.   :2169.000  \n",
       "                                      "
      ]
     },
     "metadata": {},
     "output_type": "display_data"
    }
   ],
   "source": [
    "summary(train_sales_data)"
   ]
  },
  {
   "cell_type": "markdown",
   "metadata": {},
   "source": [
    "# We have another data file test.csv with 3 columns as listed below : \n",
    "ID   - represents a ( Shop,item ) tuple\n",
    "shop_id - unique identifier to identify a Shop\n",
    "item_id  - unique identifier to identify an item \n",
    "\n",
    "lets import test file to train_test_set data frame.\n",
    "\n",
    "The train_test_set consists of 214200 observations with 2 attributes."
   ]
  },
  {
   "cell_type": "code",
   "execution_count": 6,
   "metadata": {},
   "outputs": [
    {
     "data": {
      "text/html": [
       "<ol class=list-inline>\n",
       "\t<li>214200</li>\n",
       "\t<li>3</li>\n",
       "</ol>\n"
      ],
      "text/latex": [
       "\\begin{enumerate*}\n",
       "\\item 214200\n",
       "\\item 3\n",
       "\\end{enumerate*}\n"
      ],
      "text/markdown": [
       "1. 214200\n",
       "2. 3\n",
       "\n",
       "\n"
      ],
      "text/plain": [
       "[1] 214200      3"
      ]
     },
     "metadata": {},
     "output_type": "display_data"
    }
   ],
   "source": [
    "train_test_set<- read.csv(\"test.csv\", header =TRUE)\n",
    "\n",
    "dim(train_test_set)"
   ]
  },
  {
   "cell_type": "markdown",
   "metadata": {},
   "source": [
    "# Data Transformation\n",
    "\n",
    "\n",
    " In order to forcast products sales for shops which are available in test set data frame lets join train_sales_data file with train_test_set using a Left Join.\n",
    "  \n",
    " test.csv set consists of ID Attribute which represents a (Shop, Item) tuple within the test set and \n",
    "we need to append this information to train_sales_data using left join. \n",
    "lets create a new data frame train_sales_test_set to store left join data. \n",
    "\n",
    "Data frame train_sales_test_set is created with 2935849 observations which is same as train_sales data and 8 columns / attributes(One new attribute ID is added ).\n"
   ]
  },
  {
   "cell_type": "code",
   "execution_count": 7,
   "metadata": {},
   "outputs": [
    {
     "data": {
      "text/html": [
       "<ol class=list-inline>\n",
       "\t<li>2935849</li>\n",
       "\t<li>7</li>\n",
       "</ol>\n"
      ],
      "text/latex": [
       "\\begin{enumerate*}\n",
       "\\item 2935849\n",
       "\\item 7\n",
       "\\end{enumerate*}\n"
      ],
      "text/markdown": [
       "1. 2935849\n",
       "2. 7\n",
       "\n",
       "\n"
      ],
      "text/plain": [
       "[1] 2935849       7"
      ]
     },
     "metadata": {},
     "output_type": "display_data"
    }
   ],
   "source": [
    " train_sales_test_set<- left_join(train_sales_data, train_test_set, by= c('shop_id', 'item_id'))\n",
    "\n",
    "dim(train_sales_test_set)"
   ]
  },
  {
   "cell_type": "markdown",
   "metadata": {},
   "source": [
    "\n",
    "Identify for null /NA values if any in train_sales_test_set\n",
    "we can see that ID attribute have 58.29% of observations with NULL values hence we should delete these observations as we need to predict sales for each (Shop, Item) tuple  existing in the test data set.\n"
   ]
  },
  {
   "cell_type": "code",
   "execution_count": 8,
   "metadata": {},
   "outputs": [
    {
     "name": "stdout",
     "output_type": "stream",
     "text": [
      "        variable q_zeros p_zeros    q_na  p_na q_inf p_inf    type unique\n",
      "1           date       0    0.00       0  0.00     0     0  factor   1034\n",
      "2 date_block_num  115690    3.94       0  0.00     0     0 integer     34\n",
      "3        shop_id    9857    0.34       0  0.00     0     0 integer     60\n",
      "4        item_id       1    0.00       0  0.00     0     0 integer  21807\n",
      "5     item_price       0    0.00       0  0.00     0     0 numeric  19993\n",
      "6   item_cnt_day       0    0.00       0  0.00     0     0 numeric    198\n",
      "7             ID      13    0.00 1711410 58.29     0     0 integer 111404\n"
     ]
    },
    {
     "data": {
      "text/html": [
       "TRUE"
      ],
      "text/latex": [
       "TRUE"
      ],
      "text/markdown": [
       "TRUE"
      ],
      "text/plain": [
       "[1] TRUE"
      ]
     },
     "metadata": {},
     "output_type": "display_data"
    },
    {
     "data": {
      "text/html": [
       "1711410"
      ],
      "text/latex": [
       "1711410"
      ],
      "text/markdown": [
       "1711410"
      ],
      "text/plain": [
       "[1] 1711410"
      ]
     },
     "metadata": {},
     "output_type": "display_data"
    },
    {
     "data": {
      "text/html": [
       "<dl class=dl-horizontal>\n",
       "\t<dt>date</dt>\n",
       "\t\t<dd>0</dd>\n",
       "\t<dt>date_block_num</dt>\n",
       "\t\t<dd>0</dd>\n",
       "\t<dt>shop_id</dt>\n",
       "\t\t<dd>0</dd>\n",
       "\t<dt>item_id</dt>\n",
       "\t\t<dd>0</dd>\n",
       "\t<dt>item_price</dt>\n",
       "\t\t<dd>0</dd>\n",
       "\t<dt>item_cnt_day</dt>\n",
       "\t\t<dd>0</dd>\n",
       "\t<dt>ID</dt>\n",
       "\t\t<dd>1711410</dd>\n",
       "</dl>\n"
      ],
      "text/latex": [
       "\\begin{description*}\n",
       "\\item[date] 0\n",
       "\\item[date\\textbackslash{}\\_block\\textbackslash{}\\_num] 0\n",
       "\\item[shop\\textbackslash{}\\_id] 0\n",
       "\\item[item\\textbackslash{}\\_id] 0\n",
       "\\item[item\\textbackslash{}\\_price] 0\n",
       "\\item[item\\textbackslash{}\\_cnt\\textbackslash{}\\_day] 0\n",
       "\\item[ID] 1711410\n",
       "\\end{description*}\n"
      ],
      "text/markdown": [
       "date\n",
       ":   0date_block_num\n",
       ":   0shop_id\n",
       ":   0item_id\n",
       ":   0item_price\n",
       ":   0item_cnt_day\n",
       ":   0ID\n",
       ":   1711410\n",
       "\n"
      ],
      "text/plain": [
       "          date date_block_num        shop_id        item_id     item_price \n",
       "             0              0              0              0              0 \n",
       "  item_cnt_day             ID \n",
       "             0        1711410 "
      ]
     },
     "metadata": {},
     "output_type": "display_data"
    },
    {
     "data": {
      "text/html": [
       "<ol class=list-inline>\n",
       "\t<li>1224439</li>\n",
       "\t<li>7</li>\n",
       "</ol>\n"
      ],
      "text/latex": [
       "\\begin{enumerate*}\n",
       "\\item 1224439\n",
       "\\item 7\n",
       "\\end{enumerate*}\n"
      ],
      "text/markdown": [
       "1. 1224439\n",
       "2. 7\n",
       "\n",
       "\n"
      ],
      "text/plain": [
       "[1] 1224439       7"
      ]
     },
     "metadata": {},
     "output_type": "display_data"
    },
    {
     "data": {
      "text/html": [
       "0"
      ],
      "text/latex": [
       "0"
      ],
      "text/markdown": [
       "0"
      ],
      "text/plain": [
       "[1] 0"
      ]
     },
     "metadata": {},
     "output_type": "display_data"
    },
    {
     "data": {
      "text/html": [
       "<dl class=dl-horizontal>\n",
       "\t<dt>date</dt>\n",
       "\t\t<dd>0</dd>\n",
       "\t<dt>date_block_num</dt>\n",
       "\t\t<dd>0</dd>\n",
       "\t<dt>shop_id</dt>\n",
       "\t\t<dd>0</dd>\n",
       "\t<dt>item_id</dt>\n",
       "\t\t<dd>0</dd>\n",
       "\t<dt>item_price</dt>\n",
       "\t\t<dd>0</dd>\n",
       "\t<dt>item_cnt_day</dt>\n",
       "\t\t<dd>0</dd>\n",
       "\t<dt>ID</dt>\n",
       "\t\t<dd>0</dd>\n",
       "</dl>\n"
      ],
      "text/latex": [
       "\\begin{description*}\n",
       "\\item[date] 0\n",
       "\\item[date\\textbackslash{}\\_block\\textbackslash{}\\_num] 0\n",
       "\\item[shop\\textbackslash{}\\_id] 0\n",
       "\\item[item\\textbackslash{}\\_id] 0\n",
       "\\item[item\\textbackslash{}\\_price] 0\n",
       "\\item[item\\textbackslash{}\\_cnt\\textbackslash{}\\_day] 0\n",
       "\\item[ID] 0\n",
       "\\end{description*}\n"
      ],
      "text/markdown": [
       "date\n",
       ":   0date_block_num\n",
       ":   0shop_id\n",
       ":   0item_id\n",
       ":   0item_price\n",
       ":   0item_cnt_day\n",
       ":   0ID\n",
       ":   0\n",
       "\n"
      ],
      "text/plain": [
       "          date date_block_num        shop_id        item_id     item_price \n",
       "             0              0              0              0              0 \n",
       "  item_cnt_day             ID \n",
       "             0              0 "
      ]
     },
     "metadata": {},
     "output_type": "display_data"
    },
    {
     "name": "stdout",
     "output_type": "stream",
     "text": [
      "        variable q_zeros p_zeros q_na p_na q_inf p_inf    type unique\n",
      "1           date       0    0.00    0    0     0     0  factor   1034\n",
      "2 date_block_num   17310    1.41    0    0     0     0 integer     34\n",
      "3        shop_id       0    0.00    0    0     0     0 integer     42\n",
      "4        item_id       0    0.00    0    0     0     0 integer   4716\n",
      "5     item_price       0    0.00    0    0     0     0 numeric  11941\n",
      "6   item_cnt_day       0    0.00    0    0     0     0 numeric    162\n",
      "7             ID      13    0.00    0    0     0     0 integer 111404\n"
     ]
    }
   ],
   "source": [
    "\n",
    "df_status(train_sales_test_set)\n",
    "\n",
    "# check for missing values in the data frame\n",
    "any(is.na(train_sales_test_set[]))\n",
    "# derive sum of missing values in the data frame\n",
    "sum(is.na(train_sales_test_set))\n",
    "# derive column wise count of missing values in data frame\n",
    "colSums(is.na(train_sales_test_set))\n",
    "# delete observations with missing values from data frame\n",
    "train_sales_test_set<- na.omit(train_sales_test_set)\n",
    "# derive dimensions of the data frame after deleting missing observations\n",
    "dim(train_sales_test_set)\n",
    "# recheck for missing values if any in the data frame\n",
    "sum(is.na(train_sales_test_set))\n",
    "# recheck for missing values in each column\n",
    "colSums(is.na(train_sales_test_set))\n",
    "df_status(train_sales_test_set)\n"
   ]
  },
  {
   "cell_type": "markdown",
   "metadata": {},
   "source": [
    "\n",
    "In order to predict sales we need to build a time series graph. \n",
    "The date field of train_sales_data is a factor variable and we need to convert this column into date type. "
   ]
  },
  {
   "cell_type": "code",
   "execution_count": 9,
   "metadata": {},
   "outputs": [
    {
     "data": {
      "text/html": [
       "'Date'"
      ],
      "text/latex": [
       "'Date'"
      ],
      "text/markdown": [
       "'Date'"
      ],
      "text/plain": [
       "[1] \"Date\""
      ]
     },
     "metadata": {},
     "output_type": "display_data"
    },
    {
     "data": {
      "text/html": [
       "<table>\n",
       "<thead><tr><th></th><th scope=col>date</th><th scope=col>date_block_num</th><th scope=col>shop_id</th><th scope=col>item_id</th><th scope=col>item_price</th><th scope=col>item_cnt_day</th><th scope=col>ID</th></tr></thead>\n",
       "<tbody>\n",
       "\t<tr><th scope=row>1</th><td>2013-01-02</td><td>0         </td><td>59        </td><td>22154     </td><td>999       </td><td>1         </td><td>150983    </td></tr>\n",
       "\t<tr><th scope=row>11</th><td>2013-01-03</td><td>0         </td><td>25        </td><td> 2574     </td><td>399       </td><td>2         </td><td> 56520    </td></tr>\n",
       "\t<tr><th scope=row>12</th><td>2013-01-05</td><td>0         </td><td>25        </td><td> 2574     </td><td>399       </td><td>1         </td><td> 56520    </td></tr>\n",
       "\t<tr><th scope=row>13</th><td>2013-01-07</td><td>0         </td><td>25        </td><td> 2574     </td><td>399       </td><td>1         </td><td> 56520    </td></tr>\n",
       "\t<tr><th scope=row>14</th><td>2013-01-08</td><td>0         </td><td>25        </td><td> 2574     </td><td>399       </td><td>2         </td><td> 56520    </td></tr>\n",
       "\t<tr><th scope=row>15</th><td>2013-01-10</td><td>0         </td><td>25        </td><td> 2574     </td><td>399       </td><td>1         </td><td> 56520    </td></tr>\n",
       "</tbody>\n",
       "</table>\n"
      ],
      "text/latex": [
       "\\begin{tabular}{r|lllllll}\n",
       "  & date & date\\_block\\_num & shop\\_id & item\\_id & item\\_price & item\\_cnt\\_day & ID\\\\\n",
       "\\hline\n",
       "\t1 & 2013-01-02 & 0          & 59         & 22154      & 999        & 1          & 150983    \\\\\n",
       "\t11 & 2013-01-03 & 0          & 25         &  2574      & 399        & 2          &  56520    \\\\\n",
       "\t12 & 2013-01-05 & 0          & 25         &  2574      & 399        & 1          &  56520    \\\\\n",
       "\t13 & 2013-01-07 & 0          & 25         &  2574      & 399        & 1          &  56520    \\\\\n",
       "\t14 & 2013-01-08 & 0          & 25         &  2574      & 399        & 2          &  56520    \\\\\n",
       "\t15 & 2013-01-10 & 0          & 25         &  2574      & 399        & 1          &  56520    \\\\\n",
       "\\end{tabular}\n"
      ],
      "text/markdown": [
       "\n",
       "| <!--/--> | date | date_block_num | shop_id | item_id | item_price | item_cnt_day | ID | \n",
       "|---|---|---|---|---|---|\n",
       "| 1 | 2013-01-02 | 0          | 59         | 22154      | 999        | 1          | 150983     | \n",
       "| 11 | 2013-01-03 | 0          | 25         |  2574      | 399        | 2          |  56520     | \n",
       "| 12 | 2013-01-05 | 0          | 25         |  2574      | 399        | 1          |  56520     | \n",
       "| 13 | 2013-01-07 | 0          | 25         |  2574      | 399        | 1          |  56520     | \n",
       "| 14 | 2013-01-08 | 0          | 25         |  2574      | 399        | 2          |  56520     | \n",
       "| 15 | 2013-01-10 | 0          | 25         |  2574      | 399        | 1          |  56520     | \n",
       "\n",
       "\n"
      ],
      "text/plain": [
       "   date       date_block_num shop_id item_id item_price item_cnt_day ID    \n",
       "1  2013-01-02 0              59      22154   999        1            150983\n",
       "11 2013-01-03 0              25       2574   399        2             56520\n",
       "12 2013-01-05 0              25       2574   399        1             56520\n",
       "13 2013-01-07 0              25       2574   399        1             56520\n",
       "14 2013-01-08 0              25       2574   399        2             56520\n",
       "15 2013-01-10 0              25       2574   399        1             56520"
      ]
     },
     "metadata": {},
     "output_type": "display_data"
    }
   ],
   "source": [
    "train_sales_test_set$date <- dmy(train_sales_test_set$date)\n",
    "class(train_sales_test_set$date)\n",
    "head(train_sales_test_set)"
   ]
  },
  {
   "cell_type": "markdown",
   "metadata": {},
   "source": [
    "Create a New variable date-Quarter to group observations by fiscal quarter"
   ]
  },
  {
   "cell_type": "code",
   "execution_count": 10,
   "metadata": {},
   "outputs": [
    {
     "name": "stderr",
     "output_type": "stream",
     "text": [
      "Warning message:\n",
      "\"Datetime variable was unsorted, result will be unsorted as well.\""
     ]
    }
   ],
   "source": [
    "train_sales_test_set <- train_sales_test_set %>% thicken('quarter')\n",
    "\n",
    "\n"
   ]
  },
  {
   "cell_type": "markdown",
   "metadata": {},
   "source": [
    "Create a New variable date_month to group observations by calender month"
   ]
  },
  {
   "cell_type": "code",
   "execution_count": 11,
   "metadata": {},
   "outputs": [
    {
     "name": "stderr",
     "output_type": "stream",
     "text": [
      "Warning message:\n",
      "\"Datetime variable was unsorted, result will be unsorted as well.\""
     ]
    }
   ],
   "source": [
    "train_sales_test_set <- train_sales_test_set %>% thicken('month', by = 'date')\n",
    "\n"
   ]
  },
  {
   "cell_type": "markdown",
   "metadata": {},
   "source": []
  },
  {
   "cell_type": "code",
   "execution_count": 12,
   "metadata": {},
   "outputs": [
    {
     "name": "stdout",
     "output_type": "stream",
     "text": [
      "        variable q_zeros p_zeros q_na p_na q_inf p_inf    type unique\n",
      "1           date       0    0.00    0    0     0     0    Date   1034\n",
      "2 date_block_num   17310    1.41    0    0     0     0 integer     34\n",
      "3        shop_id       0    0.00    0    0     0     0 integer     42\n",
      "4        item_id       0    0.00    0    0     0     0 integer   4716\n",
      "5     item_price       0    0.00    0    0     0     0 numeric  11941\n",
      "6   item_cnt_day       0    0.00    0    0     0     0 numeric    162\n",
      "7             ID      13    0.00    0    0     0     0 integer 111404\n",
      "8   date_quarter       0    0.00    0    0     0     0    Date     12\n",
      "9     date_month       0    0.00    0    0     0     0    Date     34\n"
     ]
    }
   ],
   "source": [
    "df_status(train_sales_test_set)"
   ]
  },
  {
   "cell_type": "code",
   "execution_count": 13,
   "metadata": {},
   "outputs": [
    {
     "data": {
      "text/html": [
       "<table>\n",
       "<thead><tr><th scope=col>date</th><th scope=col>date_block_num</th><th scope=col>shop_id</th><th scope=col>item_id</th><th scope=col>item_price</th><th scope=col>item_cnt_day</th><th scope=col>ID</th><th scope=col>date_quarter</th><th scope=col>date_month</th></tr></thead>\n",
       "<tbody>\n",
       "\t<tr><td>2013-01-02</td><td>0         </td><td>59        </td><td>22154     </td><td>999       </td><td>1         </td><td>150983    </td><td>2013-01-01</td><td>2013-01-01</td></tr>\n",
       "\t<tr><td>2013-01-03</td><td>0         </td><td>25        </td><td> 2574     </td><td>399       </td><td>2         </td><td> 56520    </td><td>2013-01-01</td><td>2013-01-01</td></tr>\n",
       "\t<tr><td>2013-01-05</td><td>0         </td><td>25        </td><td> 2574     </td><td>399       </td><td>1         </td><td> 56520    </td><td>2013-01-01</td><td>2013-01-01</td></tr>\n",
       "\t<tr><td>2013-01-07</td><td>0         </td><td>25        </td><td> 2574     </td><td>399       </td><td>1         </td><td> 56520    </td><td>2013-01-01</td><td>2013-01-01</td></tr>\n",
       "\t<tr><td>2013-01-08</td><td>0         </td><td>25        </td><td> 2574     </td><td>399       </td><td>2         </td><td> 56520    </td><td>2013-01-01</td><td>2013-01-01</td></tr>\n",
       "\t<tr><td>2013-01-10</td><td>0         </td><td>25        </td><td> 2574     </td><td>399       </td><td>1         </td><td> 56520    </td><td>2013-01-01</td><td>2013-01-01</td></tr>\n",
       "</tbody>\n",
       "</table>\n"
      ],
      "text/latex": [
       "\\begin{tabular}{r|lllllllll}\n",
       " date & date\\_block\\_num & shop\\_id & item\\_id & item\\_price & item\\_cnt\\_day & ID & date\\_quarter & date\\_month\\\\\n",
       "\\hline\n",
       "\t 2013-01-02 & 0          & 59         & 22154      & 999        & 1          & 150983     & 2013-01-01 & 2013-01-01\\\\\n",
       "\t 2013-01-03 & 0          & 25         &  2574      & 399        & 2          &  56520     & 2013-01-01 & 2013-01-01\\\\\n",
       "\t 2013-01-05 & 0          & 25         &  2574      & 399        & 1          &  56520     & 2013-01-01 & 2013-01-01\\\\\n",
       "\t 2013-01-07 & 0          & 25         &  2574      & 399        & 1          &  56520     & 2013-01-01 & 2013-01-01\\\\\n",
       "\t 2013-01-08 & 0          & 25         &  2574      & 399        & 2          &  56520     & 2013-01-01 & 2013-01-01\\\\\n",
       "\t 2013-01-10 & 0          & 25         &  2574      & 399        & 1          &  56520     & 2013-01-01 & 2013-01-01\\\\\n",
       "\\end{tabular}\n"
      ],
      "text/markdown": [
       "\n",
       "date | date_block_num | shop_id | item_id | item_price | item_cnt_day | ID | date_quarter | date_month | \n",
       "|---|---|---|---|---|---|\n",
       "| 2013-01-02 | 0          | 59         | 22154      | 999        | 1          | 150983     | 2013-01-01 | 2013-01-01 | \n",
       "| 2013-01-03 | 0          | 25         |  2574      | 399        | 2          |  56520     | 2013-01-01 | 2013-01-01 | \n",
       "| 2013-01-05 | 0          | 25         |  2574      | 399        | 1          |  56520     | 2013-01-01 | 2013-01-01 | \n",
       "| 2013-01-07 | 0          | 25         |  2574      | 399        | 1          |  56520     | 2013-01-01 | 2013-01-01 | \n",
       "| 2013-01-08 | 0          | 25         |  2574      | 399        | 2          |  56520     | 2013-01-01 | 2013-01-01 | \n",
       "| 2013-01-10 | 0          | 25         |  2574      | 399        | 1          |  56520     | 2013-01-01 | 2013-01-01 | \n",
       "\n",
       "\n"
      ],
      "text/plain": [
       "  date       date_block_num shop_id item_id item_price item_cnt_day ID    \n",
       "1 2013-01-02 0              59      22154   999        1            150983\n",
       "2 2013-01-03 0              25       2574   399        2             56520\n",
       "3 2013-01-05 0              25       2574   399        1             56520\n",
       "4 2013-01-07 0              25       2574   399        1             56520\n",
       "5 2013-01-08 0              25       2574   399        2             56520\n",
       "6 2013-01-10 0              25       2574   399        1             56520\n",
       "  date_quarter date_month\n",
       "1 2013-01-01   2013-01-01\n",
       "2 2013-01-01   2013-01-01\n",
       "3 2013-01-01   2013-01-01\n",
       "4 2013-01-01   2013-01-01\n",
       "5 2013-01-01   2013-01-01\n",
       "6 2013-01-01   2013-01-01"
      ]
     },
     "metadata": {},
     "output_type": "display_data"
    }
   ],
   "source": [
    "head(train_sales_test_set)"
   ]
  },
  {
   "cell_type": "markdown",
   "metadata": {},
   "source": [
    "item_cnt_day attribute have some negative values and in order to calculate average sales by item_cnt_day attribute we need to remove observations with negative item_cnt_day.\n",
    "lets create a new data frame and store final data set to train_sales_model_data\n"
   ]
  },
  {
   "cell_type": "code",
   "execution_count": 14,
   "metadata": {},
   "outputs": [
    {
     "name": "stdout",
     "output_type": "stream",
     "text": [
      "        variable q_zeros p_zeros q_na p_na q_inf p_inf    type unique\n",
      "1           date       0    0.00    0    0     0     0    Date   1034\n",
      "2 date_block_num   17253    1.41    0    0     0     0 integer     34\n",
      "3        shop_id       0    0.00    0    0     0     0 integer     42\n",
      "4        item_id       0    0.00    0    0     0     0 integer   4716\n",
      "5     item_price       0    0.00    0    0     0     0 numeric  11935\n",
      "6   item_cnt_day       0    0.00    0    0     0     0 numeric    155\n",
      "7             ID      13    0.00    0    0     0     0 integer 111404\n",
      "8   date_quarter       0    0.00    0    0     0     0    Date     12\n",
      "9     date_month       0    0.00    0    0     0     0    Date     34\n"
     ]
    }
   ],
   "source": [
    "train_sales_model_data <-train_sales_test_set[as.numeric(as.character(train_sales_test_set$item_cnt_day)) > 0,]\n",
    "df_status(train_sales_model_data)"
   ]
  },
  {
   "cell_type": "code",
   "execution_count": 15,
   "metadata": {},
   "outputs": [],
   "source": [
    "#Derive total items sold per shop id on a monthly basis \n",
    "shop_monthly_sales<- train_sales_model_data%>% group_by(shop_id, date_month)%>% \n",
    "  summarise(items_sold = sum(item_cnt_day))%>% ungroup()%>% arrange(date_month)"
   ]
  },
  {
   "cell_type": "code",
   "execution_count": 16,
   "metadata": {},
   "outputs": [],
   "source": [
    "# to predict sales we need to convert data into time series. I am using ts function to convert items_sold into time series data.\n",
    "# additional parameters passed to ts function are as follows.\n",
    "# time duration to be considered for time series object will be between start and end time frame provided \n",
    "# time range provided is from Jan 2013 to Oct 2015 and frequency =12 is to determine the interval and here the interval is monthly.\n",
    "ts_mon_sales<- ts(shop_monthly_sales$items_sold, start =c(2013,1), end =c(2015,10), frequency= 12)\n",
    "\n"
   ]
  },
  {
   "cell_type": "code",
   "execution_count": 17,
   "metadata": {},
   "outputs": [
    {
     "data": {
      "text/plain": [
       "Series: ts_mon_sales \n",
       "ARIMA(0,0,0) with non-zero mean \n",
       "\n",
       "Coefficients:\n",
       "          mean\n",
       "      611.9706\n",
       "s.e.   74.4248\n",
       "\n",
       "sigma^2 estimated as 194034:  log likelihood=-254.72\n",
       "AIC=513.45   AICc=513.84   BIC=516.5"
      ]
     },
     "metadata": {},
     "output_type": "display_data"
    },
    {
     "data": {
      "text/plain": [
       "$pred\n",
       "          Jan      Feb      Mar Apr May Jun Jul Aug Sep Oct      Nov      Dec\n",
       "2015                                                        611.9706 611.9706\n",
       "2016 611.9706 611.9706 611.9706                                              \n",
       "\n",
       "$se\n",
       "          Jan      Feb      Mar Apr May Jun Jul Aug Sep Oct      Nov      Dec\n",
       "2015                                                        440.4927 440.4927\n",
       "2016 440.4927 440.4927 440.4927                                              \n"
      ]
     },
     "metadata": {},
     "output_type": "display_data"
    },
    {
     "data": {
      "text/plain": [
       "         Point Forecast    Lo 80    Hi 80     Lo 95   Hi 95\n",
       "Nov 2015       611.9706 47.45653 1176.485 -251.3792 1475.32\n",
       "Dec 2015       611.9706 47.45653 1176.485 -251.3792 1475.32\n",
       "Jan 2016       611.9706 47.45653 1176.485 -251.3792 1475.32\n",
       "Feb 2016       611.9706 47.45653 1176.485 -251.3792 1475.32\n",
       "Mar 2016       611.9706 47.45653 1176.485 -251.3792 1475.32"
      ]
     },
     "metadata": {},
     "output_type": "display_data"
    },
    {
     "data": {
      "image/png": "[encoded data removed]",
      "text/plain": [
       "plot without title"
      ]
     },
     "metadata": {},
     "output_type": "display_data"
    },
    {
     "data": {
      "image/png": "[encoded data removed]",
      "text/plain": [
       "Plot with title \"Forecasts from ARIMA(0,0,0) with non-zero mean\""
      ]
     },
     "metadata": {},
     "output_type": "display_data"
    }
   ],
   "source": [
    "# Plot time series of monthly sales data by shop ID\n",
    "plot(ts_mon_sales)\n",
    "# I am using auto. arima function to create and model and predict / forcast sales.\n",
    "ts_mon_sales_model<- auto.arima(ts_mon_sales)\n",
    "ts_mon_sales_model\n",
    "# predict  sales for next 5 months \n",
    "predict_sales<- predict(ts_mon_sales_model ,n.ahead = 5, se.fit=T)\n",
    "#View next 5 months sales \n",
    "predict_sales\n",
    "forecast_sales<- forecast(object=ts_mon_sales_model, h=5)\n",
    "forecast_sales\n",
    "plot(forecast_sales)"
   ]
  },
  {
   "cell_type": "markdown",
   "metadata": {},
   "source": [
    "1. Here the forecasts for Nov 2015 to Mar 2016 are plotted as a blue line, \n",
    "2. 80% prediction interval is displayed with Blue Haze (Violet) shaded area, and \n",
    "3. 95% prediction interval is displayed with Bombay (Grey) shaded area.\n",
    "\n"
   ]
  },
  {
   "cell_type": "code",
   "execution_count": 18,
   "metadata": {},
   "outputs": [
    {
     "data": {
      "image/png": "[encoded data removed]",
      "text/plain": [
       "Plot with title \"Series  forecast_sales$residuals\""
      ]
     },
     "metadata": {},
     "output_type": "display_data"
    }
   ],
   "source": [
    "# Auto- and Cross- Covariance and -Correlation Function Estimation \n",
    "acf(forecast_sales$residuals, lag.max=20)"
   ]
  },
  {
   "cell_type": "code",
   "execution_count": 19,
   "metadata": {},
   "outputs": [
    {
     "data": {
      "image/png": "[encoded data removed]",
      "text/plain": [
       "plot without title"
      ]
     },
     "metadata": {},
     "output_type": "display_data"
    }
   ],
   "source": [
    "# plot forecast_sales residuals plot\n",
    "plot.ts(forecast_sales$residuals)"
   ]
  },
  {
   "cell_type": "code",
   "execution_count": 20,
   "metadata": {},
   "outputs": [],
   "source": [
    "# Derive monthly sales by ID(Shop_ID, item_ID tuple )\n",
    "\n",
    "shop_item_tuple_mon_sales<- train_sales_model_data%>% group_by(ID, date_month)%>% summarise(items_sold = sum(item_cnt_day), total_sales = sum(item_price*item_cnt_day))%>% ungroup()%>% arrange(desc(items_sold))\n"
   ]
  },
  {
   "cell_type": "code",
   "execution_count": 21,
   "metadata": {},
   "outputs": [],
   "source": [
    "# to predict sales we need to convert items solda data from shop_item_tuple_mon_sales data set into time series. I am using ts function to convert items_sold into time series data.\n",
    "# additional parameters passed to ts function are as follows.\n",
    "# time duration to be considered for time series object will be between start and end time frame provided \n",
    "# time range provided is from Jan 2013 to Oct 2015 and frequency =12 is to determine the interval and here the interval is monthly.\n",
    "ts_shop_item_mon_sales<- ts(shop_item_tuple_mon_sales$items_sold, start =c(2013,1), end =c(2015,10), frequency= 12)\n"
   ]
  },
  {
   "cell_type": "code",
   "execution_count": 22,
   "metadata": {},
   "outputs": [
    {
     "data": {
      "text/plain": [
       "Series: ts_shop_item_mon_sales \n",
       "ARIMA(0,2,0) \n",
       "\n",
       "sigma^2 estimated as 23481:  log likelihood=-206.43\n",
       "AIC=414.86   AICc=414.99   BIC=416.32"
      ]
     },
     "metadata": {},
     "output_type": "display_data"
    },
    {
     "data": {
      "text/plain": [
       "$pred\n",
       "     Jan Feb Mar Apr May Jun Jul Aug Sep Oct Nov Dec\n",
       "2015                                         620 613\n",
       "2016 606 599 592                                    \n",
       "\n",
       "$se\n",
       "           Jan       Feb       Mar Apr May Jun Jul Aug Sep Oct       Nov\n",
       "2015                                                            153.2356\n",
       "2016  573.3550  839.3058 1136.4254                                      \n",
       "           Dec\n",
       "2015  342.6451\n",
       "2016          \n"
      ]
     },
     "metadata": {},
     "output_type": "display_data"
    },
    {
     "data": {
      "text/plain": [
       "         Point Forecast     Lo 80     Hi 80       Lo 95     Hi 95\n",
       "Nov 2015            620  423.6207  816.3793   319.66381  920.3362\n",
       "Dec 2015            613  173.8826 1052.1174   -58.57215 1284.5721\n",
       "Jan 2016            606 -128.7840 1340.7840  -517.75514 1729.7551\n",
       "Feb 2016            599 -476.6136 1674.6136 -1046.00909 2244.0091\n",
       "Mar 2016            592 -864.3877 2048.3877 -1635.35283 2819.3528"
      ]
     },
     "metadata": {},
     "output_type": "display_data"
    },
    {
     "data": {
      "image/png": "[encoded data removed]",
      "text/plain": [
       "plot without title"
      ]
     },
     "metadata": {},
     "output_type": "display_data"
    },
    {
     "data": {
      "image/png": "[encoded data removed]",
      "text/plain": [
       "Plot with title \"Forecasts from ARIMA(0,2,0)\""
      ]
     },
     "metadata": {},
     "output_type": "display_data"
    }
   ],
   "source": [
    "# Plot time series of monthly sales data by ID(Shop_ID and Item_ID )\n",
    "plot(ts_shop_item_mon_sales)\n",
    "# I am using auto. arima function to create and model and predict / forcast sales.\n",
    "ts_shop_item_mon_sales_model<- auto.arima(ts_shop_item_mon_sales)\n",
    "ts_shop_item_mon_sales_model\n",
    "# predict  sales for next 5 months \n",
    "predict_ID_sales<- predict(ts_shop_item_mon_sales_model ,n.ahead = 5, se.fit=T)\n",
    "#View next 5 months sales \n",
    "predict_ID_sales\n",
    "forecast_ID_sales<- forecast(object=ts_shop_item_mon_sales_model, h=5)\n",
    "forecast_ID_sales\n",
    "plot(forecast_ID_sales)"
   ]
  },
  {
   "cell_type": "code",
   "execution_count": 23,
   "metadata": {},
   "outputs": [
    {
     "ename": "ERROR",
     "evalue": "Error in parse(text = x, srcfile = src): <text>:1:10: unexpected symbol\n1:     Here the\n             ^\n",
     "output_type": "error",
     "traceback": [
      "Error in parse(text = x, srcfile = src): <text>:1:10: unexpected symbol\n1:     Here the\n             ^\nTraceback:\n"
     ]
    }
   ],
   "source": [
    "    Here the forecasts for Nov 2015 to Mar 2016 are plotted as a blue line,\n",
    "    80% prediction interval is displayed with Blue Haze (Violet) shaded area, and\n",
    "    95% prediction interval is displayed with Bombay (Grey) shaded area.\n",
    "\n"
   ]
  }
 ],
 "metadata": {
  "kernelspec": {
   "display_name": "R",
   "language": "R",
   "name": "ir"
  },
  "language_info": {
   "codemirror_mode": "r",
   "file_extension": ".r",
   "mimetype": "text/x-r-source",
   "name": "R",
   "pygments_lexer": "r",
   "version": "3.4.4"
  }
 },
 "nbformat": 4,
 "nbformat_minor": 2
}
